{
  "nbformat": 4,
  "nbformat_minor": 0,
  "metadata": {
    "colab": {
      "name": "Aula 1.ipynb",
      "provenance": [],
      "collapsed_sections": []
    },
    "kernelspec": {
      "name": "python3",
      "display_name": "Python 3"
    },
    "language_info": {
      "name": "python"
    }
  },
  "cells": [
    {
      "cell_type": "code",
      "metadata": {
        "id": "xR3MXGjGTtKz"
      },
      "source": [
        "#Estrutura de um programa\n",
        "É comum na programação iniciarmos nosso código pelo método função main. Utilizaremos a estrutura abaixo"
      ],
      "execution_count": 1,
      "outputs": []
    },
    {
      "cell_type": "code",
      "metadata": {
        "id": "xDOqHumlT4DA"
      },
      "source": [
        "def main():\n",
        "  "
      ],
      "execution_count": null,
      "outputs": []
    }
  ]
}