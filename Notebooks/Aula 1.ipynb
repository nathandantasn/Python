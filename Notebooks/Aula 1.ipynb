{
 "cells": [
  {
   "cell_type": "markdown",
   "id": "cd55638f",
   "metadata": {},
   "source": [
    "# Estrutura de um programa\n",
    "É comum na programação iniciarmos nosso código pelo método função main. Utilizaremos a estrutura abaixo"
   ]
  },
  {
   "cell_type": "code",
   "execution_count": 1,
   "id": "bd0fd33b",
   "metadata": {},
   "outputs": [],
   "source": [
    "def main():\n",
    "  #comandos\n",
    "  pass\n",
    "\n",
    "# --------\n",
    "# a linha a seguir executa o programa\n",
    "main()"
   ]
  },
  {
   "cell_type": "markdown",
   "id": "71214a8e",
   "metadata": {},
   "source": [
    "### Entendendo a estrutura\n",
    "O python funciona por 'identação'.\n",
    "Executa primeiro o mais a esquerda possível, de cima para baixo"
   ]
  },
  {
   "cell_type": "code",
   "execution_count": null,
   "id": "d8f3996c",
   "metadata": {},
   "outputs": [],
   "source": [
    "# Escopo pai\n",
    "  # Escopo filho\n",
    "    # Escopo neto\n",
    "      # Escopo bisneto"
   ]
  },
  {
   "cell_type": "markdown",
   "id": "5e00c22b",
   "metadata": {},
   "source": [
    "**def** -> Define uma função\n",
    "**()** -> Chama a função"
   ]
  }
 ],
 "metadata": {
  "kernelspec": {
   "display_name": "Python 3",
   "language": "python",
   "name": "python3"
  },
  "language_info": {
   "codemirror_mode": {
    "name": "ipython",
    "version": 3
   },
   "file_extension": ".py",
   "mimetype": "text/x-python",
   "name": "python",
   "nbconvert_exporter": "python",
   "pygments_lexer": "ipython3",
   "version": "3.9.5"
  }
 },
 "nbformat": 4,
 "nbformat_minor": 5
}
