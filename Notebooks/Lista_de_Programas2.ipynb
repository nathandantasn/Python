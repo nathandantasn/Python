{
  "nbformat": 4,
  "nbformat_minor": 0,
  "metadata": {
    "colab": {
      "name": "Lista de Programas.ipynb",
      "provenance": [],
      "collapsed_sections": []
    },
    "kernelspec": {
      "name": "python3",
      "display_name": "Python 3"
    }
  },
  "cells": [
    {
      "cell_type": "code",
      "metadata": {
        "id": "MiycGWD5IJ5w"
      },
      "source": [
        "import pandas as pd \n"
      ],
      "execution_count": 1,
      "outputs": []
    },
    {
      "cell_type": "code",
      "metadata": {
        "id": "Pik0n1tGIYMk"
      },
      "source": [
        "df = pd.read_csv(\"https://raw.githubusercontent.com/carlosfab/curso_data_science_na_pratica/master/modulo_02/BBAS3.SA.csv\")"
      ],
      "execution_count": 3,
      "outputs": []
    },
    {
      "cell_type": "code",
      "metadata": {
        "colab": {
          "base_uri": "https://localhost:8080/",
          "height": 343
        },
        "id": "UPZBM16RLwF9",
        "outputId": "ebb2a14b-4626-45e8-a5f9-a7daf742d01d"
      },
      "source": [
        "df.head(10)"
      ],
      "execution_count": 4,
      "outputs": [
        {
          "output_type": "execute_result",
          "data": {
            "text/html": [
              "<div>\n",
              "<style scoped>\n",
              "    .dataframe tbody tr th:only-of-type {\n",
              "        vertical-align: middle;\n",
              "    }\n",
              "\n",
              "    .dataframe tbody tr th {\n",
              "        vertical-align: top;\n",
              "    }\n",
              "\n",
              "    .dataframe thead th {\n",
              "        text-align: right;\n",
              "    }\n",
              "</style>\n",
              "<table border=\"1\" class=\"dataframe\">\n",
              "  <thead>\n",
              "    <tr style=\"text-align: right;\">\n",
              "      <th></th>\n",
              "      <th>Date</th>\n",
              "      <th>Open</th>\n",
              "      <th>High</th>\n",
              "      <th>Low</th>\n",
              "      <th>Close</th>\n",
              "      <th>Adj Close</th>\n",
              "      <th>Volume</th>\n",
              "    </tr>\n",
              "  </thead>\n",
              "  <tbody>\n",
              "    <tr>\n",
              "      <th>0</th>\n",
              "      <td>2018-09-21</td>\n",
              "      <td>29.730000</td>\n",
              "      <td>30.580000</td>\n",
              "      <td>29.340000</td>\n",
              "      <td>30.580000</td>\n",
              "      <td>28.680056</td>\n",
              "      <td>16301600</td>\n",
              "    </tr>\n",
              "    <tr>\n",
              "      <th>1</th>\n",
              "      <td>2018-09-24</td>\n",
              "      <td>30.379999</td>\n",
              "      <td>30.700001</td>\n",
              "      <td>29.500000</td>\n",
              "      <td>29.730000</td>\n",
              "      <td>27.882866</td>\n",
              "      <td>13086900</td>\n",
              "    </tr>\n",
              "    <tr>\n",
              "      <th>2</th>\n",
              "      <td>2018-09-25</td>\n",
              "      <td>29.030001</td>\n",
              "      <td>29.760000</td>\n",
              "      <td>28.809999</td>\n",
              "      <td>29.549999</td>\n",
              "      <td>27.714045</td>\n",
              "      <td>11742900</td>\n",
              "    </tr>\n",
              "    <tr>\n",
              "      <th>3</th>\n",
              "      <td>2018-09-26</td>\n",
              "      <td>29.650000</td>\n",
              "      <td>29.969999</td>\n",
              "      <td>29.209999</td>\n",
              "      <td>29.450001</td>\n",
              "      <td>27.620264</td>\n",
              "      <td>12842400</td>\n",
              "    </tr>\n",
              "    <tr>\n",
              "      <th>4</th>\n",
              "      <td>2018-09-27</td>\n",
              "      <td>29.680000</td>\n",
              "      <td>30.299999</td>\n",
              "      <td>29.680000</td>\n",
              "      <td>30.290001</td>\n",
              "      <td>28.408072</td>\n",
              "      <td>8767900</td>\n",
              "    </tr>\n",
              "    <tr>\n",
              "      <th>5</th>\n",
              "      <td>2018-09-28</td>\n",
              "      <td>29.830000</td>\n",
              "      <td>29.980000</td>\n",
              "      <td>29.299999</td>\n",
              "      <td>29.450001</td>\n",
              "      <td>27.620264</td>\n",
              "      <td>12790900</td>\n",
              "    </tr>\n",
              "    <tr>\n",
              "      <th>6</th>\n",
              "      <td>2018-10-01</td>\n",
              "      <td>29.549999</td>\n",
              "      <td>29.760000</td>\n",
              "      <td>28.200001</td>\n",
              "      <td>28.209999</td>\n",
              "      <td>26.457306</td>\n",
              "      <td>15677500</td>\n",
              "    </tr>\n",
              "    <tr>\n",
              "      <th>7</th>\n",
              "      <td>2018-10-02</td>\n",
              "      <td>29.700001</td>\n",
              "      <td>31.559999</td>\n",
              "      <td>29.650000</td>\n",
              "      <td>31.430000</td>\n",
              "      <td>29.477245</td>\n",
              "      <td>32791500</td>\n",
              "    </tr>\n",
              "    <tr>\n",
              "      <th>8</th>\n",
              "      <td>2018-10-03</td>\n",
              "      <td>35.000000</td>\n",
              "      <td>35.419998</td>\n",
              "      <td>33.330002</td>\n",
              "      <td>34.279999</td>\n",
              "      <td>32.150173</td>\n",
              "      <td>35336300</td>\n",
              "    </tr>\n",
              "    <tr>\n",
              "      <th>9</th>\n",
              "      <td>2018-10-04</td>\n",
              "      <td>33.680000</td>\n",
              "      <td>35.880001</td>\n",
              "      <td>33.520000</td>\n",
              "      <td>35.119999</td>\n",
              "      <td>32.937988</td>\n",
              "      <td>27920000</td>\n",
              "    </tr>\n",
              "  </tbody>\n",
              "</table>\n",
              "</div>"
            ],
            "text/plain": [
              "         Date       Open       High        Low      Close  Adj Close    Volume\n",
              "0  2018-09-21  29.730000  30.580000  29.340000  30.580000  28.680056  16301600\n",
              "1  2018-09-24  30.379999  30.700001  29.500000  29.730000  27.882866  13086900\n",
              "2  2018-09-25  29.030001  29.760000  28.809999  29.549999  27.714045  11742900\n",
              "3  2018-09-26  29.650000  29.969999  29.209999  29.450001  27.620264  12842400\n",
              "4  2018-09-27  29.680000  30.299999  29.680000  30.290001  28.408072   8767900\n",
              "5  2018-09-28  29.830000  29.980000  29.299999  29.450001  27.620264  12790900\n",
              "6  2018-10-01  29.549999  29.760000  28.200001  28.209999  26.457306  15677500\n",
              "7  2018-10-02  29.700001  31.559999  29.650000  31.430000  29.477245  32791500\n",
              "8  2018-10-03  35.000000  35.419998  33.330002  34.279999  32.150173  35336300\n",
              "9  2018-10-04  33.680000  35.880001  33.520000  35.119999  32.937988  27920000"
            ]
          },
          "metadata": {
            "tags": []
          },
          "execution_count": 4
        }
      ]
    },
    {
      "cell_type": "code",
      "metadata": {
        "colab": {
          "base_uri": "https://localhost:8080/"
        },
        "id": "rz9bUk3mL45a",
        "outputId": "c8d729d3-2d68-423c-be6f-67e4a55240c1"
      },
      "source": [
        "df.shape"
      ],
      "execution_count": 6,
      "outputs": [
        {
          "output_type": "execute_result",
          "data": {
            "text/plain": [
              "(246, 7)"
            ]
          },
          "metadata": {
            "tags": []
          },
          "execution_count": 6
        }
      ]
    },
    {
      "cell_type": "code",
      "metadata": {
        "colab": {
          "base_uri": "https://localhost:8080/"
        },
        "id": "cJN7LOPRMAxV",
        "outputId": "c6ad9d8b-ac49-4c64-f275-dd5368bdd4ef"
      },
      "source": [
        "df[\"Close\"].mean()"
      ],
      "execution_count": 9,
      "outputs": [
        {
          "output_type": "execute_result",
          "data": {
            "text/plain": [
              "47.471991930894326"
            ]
          },
          "metadata": {
            "tags": []
          },
          "execution_count": 9
        }
      ]
    },
    {
      "cell_type": "code",
      "metadata": {
        "colab": {
          "base_uri": "https://localhost:8080/"
        },
        "id": "3Fp_1QO4MVDQ",
        "outputId": "63cf3a30-d15e-4b82-d040-7e2a92899074"
      },
      "source": [
        "df[\"Close\"].std()"
      ],
      "execution_count": 11,
      "outputs": [
        {
          "output_type": "execute_result",
          "data": {
            "text/plain": [
              "5.325276983274135"
            ]
          },
          "metadata": {
            "tags": []
          },
          "execution_count": 11
        }
      ]
    },
    {
      "cell_type": "code",
      "metadata": {
        "colab": {
          "base_uri": "https://localhost:8080/"
        },
        "id": "YhnweLB8MYv5",
        "outputId": "bb6f9521-97a8-40f9-907c-f6e18a9b7bc7"
      },
      "source": [
        "df.columns"
      ],
      "execution_count": 12,
      "outputs": [
        {
          "output_type": "execute_result",
          "data": {
            "text/plain": [
              "Index(['Date', 'Open', 'High', 'Low', 'Close', 'Adj Close', 'Volume'], dtype='object')"
            ]
          },
          "metadata": {
            "tags": []
          },
          "execution_count": 12
        }
      ]
    },
    {
      "cell_type": "code",
      "metadata": {
        "colab": {
          "base_uri": "https://localhost:8080/"
        },
        "id": "nPBau-t_MpLo",
        "outputId": "24cf53f7-dd99-4935-fa99-e4de5b3bf60f"
      },
      "source": [
        "df.Open[0:10].mean()"
      ],
      "execution_count": 15,
      "outputs": [
        {
          "output_type": "execute_result",
          "data": {
            "text/plain": [
              "30.623"
            ]
          },
          "metadata": {
            "tags": []
          },
          "execution_count": 15
        }
      ]
    },
    {
      "cell_type": "code",
      "metadata": {
        "colab": {
          "base_uri": "https://localhost:8080/",
          "height": 284
        },
        "id": "WEIRIgoMM0j_",
        "outputId": "c60c430e-b94a-4db1-e57b-92599fe9d208"
      },
      "source": [
        "df.describe()"
      ],
      "execution_count": 16,
      "outputs": [
        {
          "output_type": "execute_result",
          "data": {
            "text/html": [
              "<div>\n",
              "<style scoped>\n",
              "    .dataframe tbody tr th:only-of-type {\n",
              "        vertical-align: middle;\n",
              "    }\n",
              "\n",
              "    .dataframe tbody tr th {\n",
              "        vertical-align: top;\n",
              "    }\n",
              "\n",
              "    .dataframe thead th {\n",
              "        text-align: right;\n",
              "    }\n",
              "</style>\n",
              "<table border=\"1\" class=\"dataframe\">\n",
              "  <thead>\n",
              "    <tr style=\"text-align: right;\">\n",
              "      <th></th>\n",
              "      <th>Open</th>\n",
              "      <th>High</th>\n",
              "      <th>Low</th>\n",
              "      <th>Close</th>\n",
              "      <th>Adj Close</th>\n",
              "      <th>Volume</th>\n",
              "    </tr>\n",
              "  </thead>\n",
              "  <tbody>\n",
              "    <tr>\n",
              "      <th>count</th>\n",
              "      <td>246.000000</td>\n",
              "      <td>246.000000</td>\n",
              "      <td>246.000000</td>\n",
              "      <td>246.000000</td>\n",
              "      <td>246.000000</td>\n",
              "      <td>2.460000e+02</td>\n",
              "    </tr>\n",
              "    <tr>\n",
              "      <th>mean</th>\n",
              "      <td>47.516301</td>\n",
              "      <td>48.152114</td>\n",
              "      <td>46.810203</td>\n",
              "      <td>47.471992</td>\n",
              "      <td>45.937508</td>\n",
              "      <td>1.192853e+07</td>\n",
              "    </tr>\n",
              "    <tr>\n",
              "      <th>std</th>\n",
              "      <td>5.367639</td>\n",
              "      <td>5.340762</td>\n",
              "      <td>5.334983</td>\n",
              "      <td>5.325277</td>\n",
              "      <td>5.635851</td>\n",
              "      <td>5.101974e+06</td>\n",
              "    </tr>\n",
              "    <tr>\n",
              "      <th>min</th>\n",
              "      <td>29.030001</td>\n",
              "      <td>29.760000</td>\n",
              "      <td>28.200001</td>\n",
              "      <td>28.209999</td>\n",
              "      <td>26.457306</td>\n",
              "      <td>4.950700e+06</td>\n",
              "    </tr>\n",
              "    <tr>\n",
              "      <th>25%</th>\n",
              "      <td>45.032500</td>\n",
              "      <td>45.450001</td>\n",
              "      <td>44.034999</td>\n",
              "      <td>44.752502</td>\n",
              "      <td>42.837990</td>\n",
              "      <td>8.533175e+06</td>\n",
              "    </tr>\n",
              "    <tr>\n",
              "      <th>50%</th>\n",
              "      <td>48.700001</td>\n",
              "      <td>49.270001</td>\n",
              "      <td>47.955000</td>\n",
              "      <td>48.625000</td>\n",
              "      <td>47.217266</td>\n",
              "      <td>1.089165e+07</td>\n",
              "    </tr>\n",
              "    <tr>\n",
              "      <th>75%</th>\n",
              "      <td>51.537499</td>\n",
              "      <td>52.169998</td>\n",
              "      <td>50.749999</td>\n",
              "      <td>51.422500</td>\n",
              "      <td>49.755905</td>\n",
              "      <td>1.377748e+07</td>\n",
              "    </tr>\n",
              "    <tr>\n",
              "      <th>max</th>\n",
              "      <td>55.599998</td>\n",
              "      <td>55.910000</td>\n",
              "      <td>54.820000</td>\n",
              "      <td>55.180000</td>\n",
              "      <td>54.394733</td>\n",
              "      <td>4.193190e+07</td>\n",
              "    </tr>\n",
              "  </tbody>\n",
              "</table>\n",
              "</div>"
            ],
            "text/plain": [
              "             Open        High         Low       Close   Adj Close        Volume\n",
              "count  246.000000  246.000000  246.000000  246.000000  246.000000  2.460000e+02\n",
              "mean    47.516301   48.152114   46.810203   47.471992   45.937508  1.192853e+07\n",
              "std      5.367639    5.340762    5.334983    5.325277    5.635851  5.101974e+06\n",
              "min     29.030001   29.760000   28.200001   28.209999   26.457306  4.950700e+06\n",
              "25%     45.032500   45.450001   44.034999   44.752502   42.837990  8.533175e+06\n",
              "50%     48.700001   49.270001   47.955000   48.625000   47.217266  1.089165e+07\n",
              "75%     51.537499   52.169998   50.749999   51.422500   49.755905  1.377748e+07\n",
              "max     55.599998   55.910000   54.820000   55.180000   54.394733  4.193190e+07"
            ]
          },
          "metadata": {
            "tags": []
          },
          "execution_count": 16
        }
      ]
    },
    {
      "cell_type": "code",
      "metadata": {
        "colab": {
          "base_uri": "https://localhost:8080/",
          "height": 282
        },
        "id": "wErRLOpzM_Ev",
        "outputId": "4c6ca518-dad5-4dc0-9ef4-50e36b1c932a"
      },
      "source": [
        "df['High'].plot()"
      ],
      "execution_count": 19,
      "outputs": [
        {
          "output_type": "execute_result",
          "data": {
            "text/plain": [
              "<matplotlib.axes._subplots.AxesSubplot at 0x7f2cb2ecdbd0>"
            ]
          },
          "metadata": {
            "tags": []
          },
          "execution_count": 19
        },
        {
          "output_type": "display_data",
          "data": {
            "image/png": "[encoded data removed]",
            "text/plain": [
              "<Figure size 432x288 with 1 Axes>"
            ]
          },
          "metadata": {
            "tags": [],
            "needs_background": "light"
          }
        }
      ]
    },
    {
      "cell_type": "code",
      "metadata": {
        "colab": {
          "base_uri": "https://localhost:8080/",
          "height": 296
        },
        "id": "wX2zVq_KQn1n",
        "outputId": "0a439683-96a6-49ae-d0fb-b38779979b28"
      },
      "source": [
        "df['Volume'].hist()"
      ],
      "execution_count": 20,
      "outputs": [
        {
          "output_type": "execute_result",
          "data": {
            "text/plain": [
              "<matplotlib.axes._subplots.AxesSubplot at 0x7f2cb2971510>"
            ]
          },
          "metadata": {
            "tags": []
          },
          "execution_count": 20
        },
        {
          "output_type": "display_data",
          "data": {
            "image/png": "[encoded data removed]",
            "text/plain": [
              "<Figure size 432x288 with 1 Axes>"
            ]
          },
          "metadata": {
            "tags": [],
            "needs_background": "light"
          }
        }
      ]
    },
    {
      "cell_type": "code",
      "metadata": {
        "colab": {
          "base_uri": "https://localhost:8080/",
          "height": 297
        },
        "id": "C_YRMpdVRwGJ",
        "outputId": "dadf9858-3b8f-4a2c-f4e4-d4dbec023c8c"
      },
      "source": [
        "df.plot.scatter('Low', 'High')"
      ],
      "execution_count": 22,
      "outputs": [
        {
          "output_type": "execute_result",
          "data": {
            "text/plain": [
              "<matplotlib.axes._subplots.AxesSubplot at 0x7f2cb285d490>"
            ]
          },
          "metadata": {
            "tags": []
          },
          "execution_count": 22
        },
        {
          "output_type": "display_data",
          "data": {
            "image/png": "[encoded data removed]",
            "text/plain": [
              "<Figure size 432x288 with 1 Axes>"
            ]
          },
          "metadata": {
            "tags": [],
            "needs_background": "light"
          }
        }
      ]
    },
    {
      "cell_type": "code",
      "metadata": {
        "colab": {
          "base_uri": "https://localhost:8080/",
          "height": 282
        },
        "id": "TXsV7u4-SX_c",
        "outputId": "7de6596a-eea5-4f96-9ac5-906002168eb4"
      },
      "source": [
        "df['High'].plot(kind='box')"
      ],
      "execution_count": 23,
      "outputs": [
        {
          "output_type": "execute_result",
          "data": {
            "text/plain": [
              "<matplotlib.axes._subplots.AxesSubplot at 0x7f2cb27cf550>"
            ]
          },
          "metadata": {
            "tags": []
          },
          "execution_count": 23
        },
        {
          "output_type": "display_data",
          "data": {
            "image/png": "[encoded data removed]",
            "text/plain": [
              "<Figure size 432x288 with 1 Axes>"
            ]
          },
          "metadata": {
            "tags": [],
            "needs_background": "light"
          }
        }
      ]
    }
  ]
}