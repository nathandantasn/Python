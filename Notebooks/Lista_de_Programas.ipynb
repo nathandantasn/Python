{
  "nbformat": 4,
  "nbformat_minor": 0,
  "metadata": {
    "colab": {
      "name": "Lista de Programas.ipynb",
      "provenance": []
    },
    "kernelspec": {
      "name": "python3",
      "display_name": "Python 3.8.5 64-bit",
      "metadata": {
        "interpreter": {
          "hash": "2db524e06e9f5f4ffedc911c917cb75e12dbc923643829bf417064a77eb14d37"
        }
      }
    }
  },
  "cells": [
    {
      "cell_type": "code",
      "metadata": {
        "id": "osCitkHoWEBr"
      },
      "source": [
        "# Faça um programa que receba a idade do usuário e diga se ele é maior ou menor de idade. \n",
        "\n",
        "print(\"Olá! Digite sua idade!\")\n",
        "\n",
        "idade = int(input(\"Idade: \"))\n",
        "print(idade)\n",
        "if idade >= 18:\n",
        "  print(\"Você é maior de idade\")\n",
        "else:\n",
        "  print(\"Você é menor de idade\")"
      ],
      "execution_count": 7,
      "outputs": [
        {
          "output_type": "stream",
          "name": "stdout",
          "text": [
            "Olá! Digite sua idade!\n",
            "18\n",
            "Você é maior de idade\n"
          ]
        }
      ]
    },
    {
      "cell_type": "code",
      "metadata": {
        "id": "ScxZ-pTsKPPy"
      },
      "source": [
        "# Faça um programa que receba duas notas digitadas pelo usuário. Se a nota for maior ou igual a seis, escreva aprovado, senão escreva reprovado.\n",
        "\n",
        "print(\"Digite suas notas!\")\n",
        "nota1 = float(input(\"Nota 1: \"))\n",
        "nota2 = float(input(\"Nota 2: \"))\n",
        "nota3 = (nota1 + nota2)/2\n",
        "\n",
        "print(\"Sua nota foi: \",nota3)\n",
        "if nota3 >= 6:\n",
        "  print(\"Você foi aprovado!\")\n",
        "else:\n",
        "  print(\"Você foi reprovado!\")\n"
      ],
      "execution_count": null,
      "outputs": []
    },
    {
      "cell_type": "code",
      "metadata": {
        "id": "zW73tTlpL46n"
      },
      "source": [
        "# Escreva um programa que resolva uma equação de segundo grau.\n",
        "\n",
        "from math import sqrt\n",
        "a = int(input(\"Digite o valor de A: \"))\n",
        "b = int(input(\"Digite o valor de B: \"))\n",
        "c = int(input(\"Digite o valor de C: \"))\n",
        " \n",
        "delta = b**2 - 4*a*c\n",
        "raiz_delta = sqrt(delta)\n",
        " \n",
        "if raiz_delta < 0:\n",
        "    print(\"Delta negativo\")\n",
        "else:\n",
        "    x1 = (-b + raiz_delta)/2*a\n",
        "    x2 = (-b + raiz_delta)/2*a\n",
        " \n",
        "    print(\"As raízes são\", x1, \"e\", x2)\n",
        "\n"
      ],
      "execution_count": null,
      "outputs": []
    },
    {
      "cell_type": "code",
      "metadata": {
        "id": "L3euKoEERIgm"
      },
      "source": [
        "# Escreva um programa que ordene uma lista numérica com três elementos\n",
        "lista = [3,2,1]\n",
        "print(sorted(lista))"
      ],
      "execution_count": null,
      "outputs": []
    },
    {
      "cell_type": "code",
      "metadata": {
        "id": "QlsRq-QvQywn"
      },
      "source": [
        "# Escreva um programa que receba dois números e um sinal, e faça a operação matemática definida pelo sinal\n",
        "\n",
        "n1 = int(input(\"Digite o primeiro número: \"))\n",
        "sinal = input(\"Digite o sinal: \")\n",
        "n2 = int(input(\"Digite o segundo número: \"))\n",
        " \n",
        "if sinal == \"+\":\n",
        "    op = n1 + n2\n",
        " \n",
        "elif sinal == \"-\":\n",
        "    op = n1 - n2\n",
        " \n",
        "elif sinal == \"/\":\n",
        "    op = n1 + n2\n",
        " \n",
        "elif sinal == \"*\":\n",
        "    op = n1 * n2\n",
        " \n",
        "else:\n",
        "    print(\"Sinal inválido.\")\n",
        " \n",
        "print(op)"
      ],
      "execution_count": null,
      "outputs": []
    },
    {
      "cell_type": "code",
      "execution_count": null,
      "metadata": {},
      "outputs": [],
      "source": [
        "print(\"\\nOlá, descubra qual é seu peso ideal, através de duas informações básicas!\")\n",
        "\n",
        "sexo = str(input(\"\\nDigite seu sexo(Feminino ou Masculino): \"))\n",
        "sexo = sexo.upper()\n",
        "\n",
        "while sexo != \"FEMININO\" and sexo !=\"MASCULINO\":\n",
        "    print(\"Sexo digitado não é válido!\")\n",
        "    sexo = str(input(\"Digite seu sexo(Feminino ou Masculino): \"))\n",
        "sexo = sexo.upper()\n",
        "\n",
        "altura = float(input(\"\\nDigite sua altura(Ex: 1.69): \"))\n",
        "\n",
        "if sexo == \"MASCULINO\":\n",
        "    print(\"\\nSeu peso ideal é: %.3f Kg\" %(altura*72.7 - 58.0)) \n",
        "\n",
        "else:\n",
        "    print(\"\\nSeu peso ideal é: %.3f Kg\" %(altura*62.1 - 44.7))"
      ]
    },
    {
      "cell_type": "code",
      "execution_count": 1,
      "metadata": {
        "tags": []
      },
      "outputs": [
        {
          "output_type": "error",
          "ename": "ValueError",
          "evalue": "could not convert string to float: ''",
          "traceback": [
            "\u001b[1;31m---------------------------------------------------------------------------\u001b[0m",
            "\u001b[1;31mValueError\u001b[0m                                Traceback (most recent call last)",
            "\u001b[1;32m<ipython-input-1-a5051a30f2a2>\u001b[0m in \u001b[0;36m<module>\u001b[1;34m\u001b[0m\n\u001b[0;32m      3\u001b[0m \u001b[0minterest\u001b[0m \u001b[1;33m=\u001b[0m \u001b[1;36m0\u001b[0m\u001b[1;33m\u001b[0m\u001b[1;33m\u001b[0m\u001b[0m\n\u001b[0;32m      4\u001b[0m \u001b[1;32mwhile\u001b[0m \u001b[0mcod\u001b[0m \u001b[1;33m==\u001b[0m \u001b[1;36m2\u001b[0m\u001b[1;33m:\u001b[0m\u001b[1;33m\u001b[0m\u001b[1;33m\u001b[0m\u001b[0m\n\u001b[1;32m----> 5\u001b[1;33m     \u001b[0minvestiment\u001b[0m \u001b[1;33m=\u001b[0m \u001b[0mfloat\u001b[0m\u001b[1;33m(\u001b[0m\u001b[0minput\u001b[0m\u001b[1;33m(\u001b[0m\u001b[1;34m\"\\nDigite o valor a ser investido: R$ \"\u001b[0m\u001b[1;33m)\u001b[0m\u001b[1;33m)\u001b[0m\u001b[1;33m\u001b[0m\u001b[1;33m\u001b[0m\u001b[0m\n\u001b[0m\u001b[0;32m      6\u001b[0m     \u001b[0mpercentage\u001b[0m \u001b[1;33m=\u001b[0m \u001b[0mfloat\u001b[0m\u001b[1;33m(\u001b[0m\u001b[0minput\u001b[0m\u001b[1;33m(\u001b[0m\u001b[1;34m\"Digite o juros mensal: % \"\u001b[0m\u001b[1;33m)\u001b[0m\u001b[1;33m)\u001b[0m\u001b[1;33m\u001b[0m\u001b[1;33m\u001b[0m\u001b[0m\n\u001b[0;32m      7\u001b[0m     \u001b[0mcod\u001b[0m \u001b[1;33m=\u001b[0m \u001b[1;36m0\u001b[0m\u001b[1;33m\u001b[0m\u001b[1;33m\u001b[0m\u001b[0m\n",
            "\u001b[1;31mValueError\u001b[0m: could not convert string to float: ''"
          ]
        }
      ],
      "source": [
        "cod = 2\n",
        "balance = 0\n",
        "interest = 0\n",
        "while cod == 2:\n",
        "    investiment = float(input(\"\\nDigite o valor a ser investido: R$ \"))\n",
        "    percentage = float(input(\"Digite o juros mensal: % \"))\n",
        "    cod = 0\n",
        "    year = 0\n",
        "    while cod == 0:\n",
        "        i = 1\n",
        "        year+=1\n",
        "        while i < 13:\n",
        "            interest = (balance + investiment) * percentage\n",
        "            balance = balance + investiment + interest\n",
        "            investiment = 0\n",
        "            print(\"%iº mês, o valor será R$ %.2f\" %(i, balance))\n",
        "            i+=1\n",
        "        print(\"\\nApós um ano de investimento, o valor será R$ %.2f\" %(balance))\n",
        "        print(\"\\nApós %i ano(s) seu saldo será R$ %.2f\\n\" %(year,balance))\n",
        "        print(\"\\nDeseja calcular mais um ano, começar de novo ou encerrar o aplicativo?\")\n",
        "        cod = int(input(\"Digite 0 para continuar, 1 para encerrar e 2 para começar de novo \"))"
      ]
    },
    {
      "cell_type": "code",
      "execution_count": null,
      "metadata": {},
      "outputs": [],
      "source": []
    }
  ]
}