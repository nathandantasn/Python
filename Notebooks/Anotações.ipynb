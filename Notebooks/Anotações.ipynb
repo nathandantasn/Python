{
  "nbformat": 4,
  "nbformat_minor": 0,
  "metadata": {
    "colab": {
      "name": "Anotações.ipynb",
      "provenance": [],
      "collapsed_sections": []
    },
    "kernelspec": {
      "name": "python3",
      "display_name": "Python 3"
    }
  },
  "cells": [
    {
      "cell_type": "code",
      "metadata": {
        "id": "oiREuG46xv03"
      },
      "source": [
        "# Variáveis\n",
        "variavel1 = 1 #variável inteira\n",
        "variavel2 = 1.2 #variável float\n",
        "variavel3 = \"Eu sou uma string\" #variável string, que são sempre declaradas entre aspas \"\"\n",
        "variavel4 = True #verdadeiro variável booleana\n",
        "variavel5 = False #falso variável booleana\n"
      ],
      "execution_count": null,
      "outputs": []
    },
    {
      "cell_type": "code",
      "metadata": {
        "id": "HAvonknH0ezt"
      },
      "source": [
        "#Operadores matemáticos *, +,-,/,**,%,//\n",
        "print(5 + 7)\n",
        "print(5 - 7)\n",
        "print(5 / 7)\n",
        "print(5 * 7)\n",
        "print(5 ** 7)\n",
        "print(5 // 7)\n",
        "print(5 % 7)"
      ],
      "execution_count": null,
      "outputs": []
    },
    {
      "cell_type": "code",
      "metadata": {
        "id": "4NmT7Y2Qyrsv"
      },
      "source": [
        "# Operadores relacionais ==, <=, >=, >, <, !=\n",
        "x = 2\n",
        "y = 3\n",
        "\n",
        "x = y\n",
        "print (x == y)"
      ],
      "execution_count": null,
      "outputs": []
    },
    {
      "cell_type": "code",
      "metadata": {
        "id": "0VcwATrnzHqp"
      },
      "source": [
        "x = 2\n",
        "y = 3\n",
        "\n",
        "print (x > y)"
      ],
      "execution_count": null,
      "outputs": []
    },
    {
      "cell_type": "code",
      "metadata": {
        "id": "a_k26OTKzc_g"
      },
      "source": [
        "x = 2\n",
        "y = 3\n",
        "\n",
        "soma = x + y\n",
        "print (x == y)"
      ],
      "execution_count": null,
      "outputs": []
    },
    {
      "cell_type": "code",
      "metadata": {
        "id": "vBkj6pHgzVwh"
      },
      "source": [
        "#Operadores lógicos AND, OR ou NOT\n",
        "x = 3\n",
        "y = 3\n",
        "z = 3\n",
        "print (x == y and x == z)"
      ],
      "execution_count": null,
      "outputs": []
    },
    {
      "cell_type": "code",
      "metadata": {
        "id": "B2f0MV0xzZmZ"
      },
      "source": [
        "x = 3\n",
        "y = 3\n",
        "z = 1\n",
        "print (x == y and x == z)"
      ],
      "execution_count": null,
      "outputs": []
    },
    {
      "cell_type": "code",
      "metadata": {
        "id": "SqbkUIzPz8xi"
      },
      "source": [
        "x = 3\n",
        "y = 3\n",
        "z = 1\n",
        "print (x == y or x == z)"
      ],
      "execution_count": null,
      "outputs": []
    },
    {
      "cell_type": "code",
      "metadata": {
        "id": "My6Dyb9a2XQi"
      },
      "source": [
        "# Comando condicional if, else, elif\n",
        "x = 1\n",
        "y = 10\n",
        "\n",
        "if x < y:\n",
        "  print(\"x é maior que y\")\n",
        "if x < y:\n",
        "  print(\"y é maior que x\")"
      ],
      "execution_count": null,
      "outputs": []
    },
    {
      "cell_type": "code",
      "metadata": {
        "id": "dcsS1sU-6fid"
      },
      "source": [
        "x = 1\n",
        "y = 10\n",
        "\n",
        "if x > y:\n",
        "  print(\"x é maior que y\")\n",
        "else:\n",
        "  print(\"x não é maior que y\")"
      ],
      "execution_count": null,
      "outputs": []
    },
    {
      "cell_type": "code",
      "metadata": {
        "id": "N122mmw6T01v"
      },
      "source": [
        "x = 1\n",
        "y = 2\n",
        "\n",
        "if x == y:\n",
        "  print(\"Números iguais\")\n",
        "elif y > x: \n",
        "  print(\"y é maior que x\")  # executa a primeira opção verdadeira que encontrar\n",
        "else:\n",
        "  print(\"Números diferentes\")"
      ],
      "execution_count": null,
      "outputs": []
    },
    {
      "cell_type": "code",
      "metadata": {
        "id": "Q6EwxLkzUYrk"
      },
      "source": [
        "# Laços de repetição while, do, for e range\n",
        "\n",
        "x = 1\n",
        "\n",
        "while x < 10:\n",
        "  print(x)\n",
        "  x += 1            # x = x + 1"
      ],
      "execution_count": null,
      "outputs": []
    },
    {
      "cell_type": "code",
      "metadata": {
        "id": "2wR3LZJSVhnj"
      },
      "source": [
        "lista = [1,2,3,4,5] # for para varrer um conjunto de elementos pré-determinados\n",
        "lista2 = [\"ola\",\"mundo\",\"!\"]\n",
        "lista3 = [0,\"olá\",\"biscoito\",\"bolacha\",9.99,True]\n",
        "\n",
        "for i in lista3:\n",
        "  print(i)"
      ],
      "execution_count": null,
      "outputs": []
    },
    {
      "cell_type": "code",
      "metadata": {
        "id": "rOSi-nbvWI0N"
      },
      "source": [
        "for i in range(10,20,2): # for + range = criar lista. 10 = início, 20 = fim - 1, 2 = de dois em dois;\n",
        "  print(i)"
      ],
      "execution_count": null,
      "outputs": []
    },
    {
      "cell_type": "code",
      "metadata": {
        "id": "GfUpGH7rXqri"
      },
      "source": [
        "# len para mostrar o tamanho das variáveis\n",
        "a = \"Nathan\"\n",
        "b = \"Dantas\"\n",
        "concatenar = a + \" \" + b\n",
        "print(concatenar)\n",
        "\n",
        "tamanho = len(concatenar)\n",
        "print(tamanho) # espaço também conta no tamanho dos caracteres"
      ],
      "execution_count": null,
      "outputs": []
    },
    {
      "cell_type": "code",
      "metadata": {
        "id": "kmZnnlhvYYro",
        "colab": {
          "base_uri": "https://localhost:8080/"
        },
        "outputId": "b95e034c-eae6-4d84-f250-3c6f3cbb4454"
      },
      "source": [
        "a = \"Nathan\"\n",
        "b = \"Dantas\"\n",
        "concatenar = a + \" \" + b\n",
        "\n",
        "print(a[0])\n",
        "print(a[1])\n",
        "print(a[2])\n",
        "print(a[3])\n",
        "print(a[4])\n",
        "print(a[5]) # valor fora da string dará erro"
      ],
      "execution_count": null,
      "outputs": [
        {
          "output_type": "stream",
          "text": [
            "N\n",
            "a\n",
            "t\n",
            "h\n",
            "a\n",
            "n\n"
          ],
          "name": "stdout"
        }
      ]
    },
    {
      "cell_type": "code",
      "metadata": {
        "id": "GOIEInvKY05V",
        "colab": {
          "base_uri": "https://localhost:8080/"
        },
        "outputId": "2ba1ec5d-f6ee-45c4-9d18-4dc3518e8340"
      },
      "source": [
        "a = \"Nathan\"\n",
        "b = \"Dantas\"\n",
        "concatenar = a + \" \" + b\n",
        "\n",
        "print(concatenar[0:6]) # impressão de 6 valores, do 0 ao 5;\n",
        "print(concatenar[0:]) # impressão até o final"
      ],
      "execution_count": null,
      "outputs": [
        {
          "output_type": "stream",
          "text": [
            "Natha\n",
            "Nathan Dantas\n"
          ],
          "name": "stdout"
        }
      ]
    },
    {
      "cell_type": "code",
      "metadata": {
        "id": "Si_j_TWIaPo7",
        "colab": {
          "base_uri": "https://localhost:8080/"
        },
        "outputId": "951959fb-6c5e-4534-c0ef-b040a46641ee"
      },
      "source": [
        "# método aplicado as strings\n",
        "\n",
        "a = \"Nathan\"\n",
        "b = \"Dantas\"\n",
        "concatenar = a + \" \" + b\n",
        "\n",
        "print(concatenar)\n",
        "print(concatenar.lower()) # tudo minúsculo\n",
        "print(concatenar.upper()) # tudo maíusculo\n"
      ],
      "execution_count": null,
      "outputs": [
        {
          "output_type": "stream",
          "text": [
            "Nathan Dantas\n",
            "nathan dantas\n",
            "NATHAN DANTAS\n"
          ],
          "name": "stdout"
        }
      ]
    },
    {
      "cell_type": "code",
      "metadata": {
        "id": "NGyKdLIZa2BH"
      },
      "source": [
        "a = \"Nathan\"\n",
        "b = \"Dantas\"\n",
        "concatenar = a + \" \" + b\n",
        "\n",
        "print(concatenar)\n",
        "concatenar = concatenar.upper() # recebendo valor//alterando variável \"concatenar\"\n",
        "print(concatenar)\n"
      ],
      "execution_count": null,
      "outputs": []
    },
    {
      "cell_type": "code",
      "metadata": {
        "id": "Cpjrg8v5bMzL",
        "colab": {
          "base_uri": "https://localhost:8080/"
        },
        "outputId": "213d862d-d405-4b7b-f8e6-e9f62c14b72f"
      },
      "source": [
        "# função strip remove tanto espaços como caracteres especiais da nossa string\n",
        "a = \"Nathan\"\n",
        "b = \"Dantas\"\n",
        "concatenar = a + \" \" + b + \"\\n\"\n",
        "\n",
        "print(concatenar.strip()) # removeu a quebra de linha \\n"
      ],
      "execution_count": null,
      "outputs": [
        {
          "output_type": "stream",
          "text": [
            "Nathan Dantas\n"
          ],
          "name": "stdout"
        }
      ]
    },
    {
      "cell_type": "code",
      "metadata": {
        "id": "cV0qlIIgbwgg",
        "colab": {
          "base_uri": "https://localhost:8080/"
        },
        "outputId": "135d4ca3-51d3-4ea3-b2f0-b9b9b9925600"
      },
      "source": [
        "# função split converte a minha sequência em uma lista\n",
        "minha_string = \"O rato roeu a roupa do rei de Roma\"\n",
        "\n",
        "minha_lista = minha_string.split(\" \")\n",
        "print(minha_lista) # separar as palavras pelo espaço/ tirou os espaços"
      ],
      "execution_count": null,
      "outputs": [
        {
          "output_type": "stream",
          "text": [
            "['O', 'rato', 'roeu', 'a', 'roupa', 'do', 'rei', 'de', 'Roma']\n"
          ],
          "name": "stdout"
        }
      ]
    },
    {
      "cell_type": "code",
      "metadata": {
        "id": "1i6FB-IdcuEj"
      },
      "source": [
        "# método find para realizar uma busca na string\n",
        "minha_string = \"O rato roeu a roupa do rei de Roma\"\n",
        "\n",
        "busca = minha_string.find(\"rei\")\n",
        "print(busca) # buscou a posição da palavra \"rei\", ou a letra \"r\"\n",
        "print(minha_string[busca:]) # buscar na string e imprimir o que vem após a palavra \"rei\"\n",
        "busca = minha_string.find(\"rainha\")\n",
        "print(busca) # se não encontrou a substring, ele retorna -1"
      ],
      "execution_count": null,
      "outputs": []
    },
    {
      "cell_type": "code",
      "metadata": {
        "id": "NnyhtBEwdnAn"
      },
      "source": [
        "# método replace substitui partes de uma string\n",
        "minha_string = \"O rato roeu a roupa do rei de Roma\"\n",
        "minha_string = minha_string.replace(\"o rei\",\"a rainha\") #primeiro termo será substituído pelo segundo // #substituído/substituto\n",
        "\n",
        "print(minha_string) #substituiu a letra \"o\" de \"do\" e adicionou a letra \"a\". Substiutiu também a palvra \"rei\" por \"rainha\""
      ],
      "execution_count": null,
      "outputs": []
    },
    {
      "cell_type": "code",
      "metadata": {
        "id": "dy6ECuJgel3L",
        "colab": {
          "base_uri": "https://localhost:8080/"
        },
        "outputId": "0f951d80-0bf1-497e-9138-598a7e492706"
      },
      "source": [
        "# funções em Python são definidas pela palavra \"def\"\n",
        "\n",
        "def soma(x,y):\n",
        "  return x + y # variável x e y não existem globalmente, só existem dentro da função, são escopos locais\n",
        "def multiplicacao(x,y):\n",
        "  return x * y\n",
        "\n",
        "s= soma(2,2) # chamada para a função\n",
        "m = multiplicacao(3,7) # chamada para a função\n",
        "print(s)\n",
        "print(m)\n",
        "print(soma(s,m)) # somar as duas funções\n",
        "print(multiplicacao(s,m)) # multiplicar as duas funções"
      ],
      "execution_count": null,
      "outputs": [
        {
          "output_type": "stream",
          "text": [
            "4\n",
            "21\n",
            "25\n",
            "84\n"
          ],
          "name": "stdout"
        }
      ]
    },
    {
      "cell_type": "code",
      "metadata": {
        "id": "sxHYoCbEmTQm"
      },
      "source": [
        "# abrir arquivos com a função \"open\"/ variavel = open(nome do arquivo,modo)\n",
        "# tipos de modos: \n",
        "# r = somente leitura, w = escrita (caso o arquivo já exista, ele será apagado e um novo arquivo vazio será criado)\n",
        "# a = leitura e escrita(add um novo conteúdo ao fim do arquivo), r+ = leitura e escrita, w+ = escrita(também apaga o conteúdo anterior do arquivo)\n",
        "# a+ = leitura e escrita(abre o arquivo para atualização)\n"
      ],
      "execution_count": null,
      "outputs": []
    },
    {
      "cell_type": "code",
      "metadata": {
        "id": "Rtbq1BhLrAMB"
      },
      "source": [
        "arquivo = open(\"arquivo2.txt\")\n",
        "linhas = arquivo.readlines() # lê um arquivo e armazena em uma lista\n",
        "\n",
        "print(linhas)"
      ],
      "execution_count": null,
      "outputs": []
    },
    {
      "cell_type": "code",
      "metadata": {
        "id": "9ZUsbIeL4rCR"
      },
      "source": [
        "arquivo = open(\"arquivo2.txt\")\n",
        "linhas = arquivo.readlines() \n",
        "\n",
        "for linha in linhas: # cada linha em uma linha\n",
        "  print(linha)"
      ],
      "execution_count": null,
      "outputs": []
    },
    {
      "cell_type": "code",
      "metadata": {
        "id": "Zod-3Ozp5ut0"
      },
      "source": [
        "arquivo = open(\"arquivo2.txt\")\n",
        "linhas = arquivo.readline() # lê uma linha do arquivo\n",
        "\n",
        "print(linhas)"
      ],
      "execution_count": null,
      "outputs": []
    },
    {
      "cell_type": "code",
      "metadata": {
        "id": "pI7WZkz45Knu"
      },
      "source": [
        "arquivo = open(\"arquivo2.txt\")\n",
        "texto_completo= arquivo.read() # lê o texto completo do arquivo\n",
        "\n",
        "print(texto_completo)"
      ],
      "execution_count": null,
      "outputs": []
    },
    {
      "cell_type": "code",
      "metadata": {
        "id": "CcGgM5Ra6NOd"
      },
      "source": [
        "w = open(\"arquivo2.txt\",\"a\")\n",
        "\n",
        "w.write(\"Esse é o meu arquivo \\n\") # comando w cria e w.write escreve no documento\n",
        "w.close()"
      ],
      "execution_count": null,
      "outputs": []
    },
    {
      "cell_type": "code",
      "metadata": {
        "id": "-Tz9U0dcRIvo"
      },
      "source": [
        "# declaração de lista entre conchetes e separados por \",\"\n",
        "minha_lista = [\"abacaxi\",\"melancia\",\"abacate\"] #string\n",
        "minha_lista2 = [1,2,3,4,5] #números\n",
        "minha_lista3 = [\"abacaxi\", 2, 9.89, True] #misto\n",
        "\n",
        "print(minha_lista) #imprimir a lista\n",
        "print(minha_lista[0]) # imprimir posição da lista\n",
        "\n",
        "for item in minha_lista3:\n",
        "  print(item)\n",
        "\n"
      ],
      "execution_count": null,
      "outputs": []
    },
    {
      "cell_type": "code",
      "metadata": {
        "id": "Wr6iDkZCqppY"
      },
      "source": [
        "# tamanho da lista\n",
        "minha_lista3 = [\"abacaxi\", 2, 9.89, True] #misto\n",
        "tamanho = len(minha_lista3)\n",
        "\n",
        "print(tamanho) # imprimir a quantidade de itens nessa lista"
      ],
      "execution_count": null,
      "outputs": []
    },
    {
      "cell_type": "code",
      "metadata": {
        "id": "OFhD7PNi3WKM"
      },
      "source": [
        "# adicionando elementos na minha lista\n",
        "minha_lista = [\"abacaxi\", 2, 9.89, True] \n",
        "\n",
        "print(minha_lista)\n",
        "\n",
        "minha_lista.append(\"limão\") # método para adicionar coisas na lista\n",
        "\n",
        "print(minha_lista)\n"
      ],
      "execution_count": null,
      "outputs": []
    },
    {
      "cell_type": "code",
      "metadata": {
        "id": "V3qoazy-4HfQ"
      },
      "source": [
        "# para saber se tem algo na lista\n",
        "minha_lista = [\"abacaxi\", 2, 9.89, True] \n",
        "\n",
        "print(minha_lista)\n",
        "\n",
        "if 2 in minha_lista: # para saber se tem algo na lista\n",
        "  print(\"2 está na lista\")"
      ],
      "execution_count": null,
      "outputs": []
    },
    {
      "cell_type": "code",
      "metadata": {
        "id": "eHsuVYuI4Qsv"
      },
      "source": [
        "# remover algo da lista\n",
        "\n",
        "minha_lista = [\"abacaxi\", 2, 9.89, True] \n",
        "\n",
        "print(minha_lista)\n",
        "\n",
        "del minha_lista[2:] #comando para excluir do índice 2(9.89) em diante da lista\n",
        "print(minha_lista)\n"
      ],
      "execution_count": null,
      "outputs": []
    },
    {
      "cell_type": "code",
      "metadata": {
        "id": "Ej2NeMyx473Q"
      },
      "source": [
        "# deletar toda a lista\n",
        "\n",
        "minha_lista = [\"abacaxi\", 2, 9.89, True] \n",
        "\n",
        "print(minha_lista)\n",
        "\n",
        "del minha_lista[:] # remove tudo que está na lista\n",
        "\n",
        "print(minha_lista)"
      ],
      "execution_count": null,
      "outputs": []
    },
    {
      "cell_type": "code",
      "metadata": {
        "id": "V16kgzog5Gpy"
      },
      "source": [
        "# criar uma lista em branco e preencher aos poucos\n",
        "minha_lista4 = [] \n",
        "\n",
        "print(minha_lista4)\n",
        "\n",
        "minha_lista4.append(57)\n",
        "print(minha_lista4)"
      ],
      "execution_count": null,
      "outputs": []
    },
    {
      "cell_type": "code",
      "metadata": {
        "id": "o7ZJJBR0CrqS"
      },
      "source": [
        "# Ordenar listas\n",
        "\n",
        "lista = [124,345,72,46,6,7,8,0,1,3,2]\n",
        "\n",
        "lista.sort() # altera uma lista já existente\n",
        "\n",
        "print(lista)\n",
        "\n",
        "lista = sorted(lista) # retorna uma lista ordenada\n",
        "\n",
        "print(lista)"
      ],
      "execution_count": null,
      "outputs": []
    },
    {
      "cell_type": "code",
      "metadata": {
        "id": "ICFHmxe0NK-t"
      },
      "source": [
        "# Ordenar listas\n",
        "\n",
        "lista = [124,345,72,46,6,7,8,0,1,3,2]\n",
        "\n",
        "lista.sort(reverse=True) # lista ordenada de forma decrescente \n",
        "\n",
        "print(lista)\n"
      ],
      "execution_count": null,
      "outputs": []
    },
    {
      "cell_type": "code",
      "metadata": {
        "id": "DDsS4XkTNauk"
      },
      "source": [
        "# Ordenar listas\n",
        "\n",
        "lista = [124,345,72,46,6,7,8,0,1,3,2]\n",
        "\n",
        "lista.reverse() # reverter a lista\n",
        "print(lista)"
      ],
      "execution_count": null,
      "outputs": []
    },
    {
      "cell_type": "code",
      "metadata": {
        "id": "hJ5Mnk4UNtSB"
      },
      "source": [
        "# Ordenar listas\n",
        "\n",
        "lista = [\"Abacaxi\",\"Carro\",\"Bola\",\"Zebra\",\"Lugar\"]\n",
        "\n",
        "lista.sort() # ordenar a lista de forma alfabética\n",
        "print(lista)"
      ],
      "execution_count": null,
      "outputs": []
    },
    {
      "cell_type": "code",
      "metadata": {
        "id": "UPdY5_EzOKUB"
      },
      "source": [
        "# dicionários em python: dicionários são arrays associativos/ lista de associações, ou seja, um determinado valor passa a ser vinculado a uma chave\n",
        "\n",
        "meu_dicionario = {\"A\": \"nathandantas.com\"} # declarado entre chaves\n",
        "\n",
        "# No dicionário acima, a chave \"Nathan\" foi vinculado ao valor \"nathandantas.com\". Assim, para imprimir o valor chame:\n",
        "\n",
        "print(meu_dicionario['A'])"
      ],
      "execution_count": null,
      "outputs": []
    },
    {
      "cell_type": "code",
      "metadata": {
        "id": "sIag4BibO11E"
      },
      "source": [
        "# Se o dicionário tiver vários elementos, você pode usar laços para imprimi-los:\n",
        "dicionario_sites = {\"B\": \"nathandantas.com\", \"Google\": \"google.com\", \"Udemy\": \"udemy.com\"}\n",
        " \n",
        "for chave in dicionario_sites:\n",
        "    print(dicionario_sites[chave])"
      ],
      "execution_count": null,
      "outputs": []
    },
    {
      "cell_type": "code",
      "metadata": {
        "id": "WXcrUeOfP8BC"
      },
      "source": [
        "# função items: converte o dicionário em uma tupla(conjunto de dados imutáveis)\n",
        "\n",
        "dicionario = {\"A\":\"Amora\",\"L\":\"Limão\",\"N\":\"Nathan\"}\n",
        "\n",
        "for chave in dicionario.items():\n",
        "  print(chave)\n"
      ],
      "execution_count": null,
      "outputs": []
    },
    {
      "cell_type": "code",
      "metadata": {
        "id": "GNhpOs7mQmyD"
      },
      "source": [
        "# função values: retorna somente os valores\n",
        "\n",
        "dicionario = {\"A\":\"Amora\",\"L\":\"Limão\",\"N\":\"Nathan\"}\n",
        "\n",
        "for chave in dicionario.values():\n",
        "  print(chave)"
      ],
      "execution_count": null,
      "outputs": []
    },
    {
      "cell_type": "code",
      "metadata": {
        "id": "FHzDOZRpQvsa"
      },
      "source": [
        "# função keys: retorna somente as chaves\n",
        "\n",
        "dicionario = {\"A\":\"Amora\",\"L\":\"Limão\",\"N\":\"Nathan\"}\n",
        "\n",
        "for chave in dicionario.keys():\n",
        "  print(chave)"
      ],
      "execution_count": null,
      "outputs": []
    },
    {
      "cell_type": "code",
      "metadata": {
        "id": "DGGvwIRCQ8-g"
      },
      "source": [
        "# escolha de números aleatórios em python\n",
        "import random\n",
        "# random.seed(1) ----> para sempre dar o mesmo número\n",
        "numero = random.randint(0,10) # escolher um número de 0 a 10 \n",
        "print(numero)"
      ],
      "execution_count": null,
      "outputs": []
    },
    {
      "cell_type": "code",
      "metadata": {
        "id": "19_vqV1KTJbd"
      },
      "source": [
        "# escolha de números aleatórios em python\n",
        "import random\n",
        "lista = [6,45,9]\n",
        "numero = random.choice(lista) # escolher um número da lista aleatoriamente\n",
        "print(numero)"
      ],
      "execution_count": null,
      "outputs": []
    },
    {
      "cell_type": "code",
      "metadata": {
        "id": "rqvH3uifUrRw"
      },
      "source": [
        "# tratamento de exceções: caso ocorra um erro na execução do programa, a exceção permite a continuação da excecução\n",
        "\n",
        "a = 2\n",
        "b = 0\n",
        "\n",
        "try:\n",
        "  print(a/b)\n",
        "except:\n",
        "  print(\"Não é permitida divisão por 0\")\n",
        "\n",
        "print(a/a)"
      ],
      "execution_count": null,
      "outputs": []
    },
    {
      "cell_type": "code",
      "metadata": {
        "id": "41JLT6u9_nQ-"
      },
      "source": [
        "# list comprehension\n",
        "\n",
        "x = [1, 2, 3, 4, 5]\n",
        "y = []\n",
        "\n",
        "for i in x:\n",
        "  y.append(i**2) # método simples\n",
        "\n",
        "print(x)\n",
        "print(y)\n"
      ],
      "execution_count": null,
      "outputs": []
    },
    {
      "cell_type": "code",
      "metadata": {
        "id": "zdM28FwKAkje"
      },
      "source": [
        "# list comprehension y =[valor_a_adicionar  laço  condição]\n",
        "x = [1, 2, 3, 4, 5]\n",
        "y = [i**2 for i in x]\n",
        "\n",
        "print(\"Usando list comprehension\")\n",
        "print(x)\n",
        "print(y)"
      ],
      "execution_count": null,
      "outputs": []
    },
    {
      "cell_type": "code",
      "metadata": {
        "colab": {
          "base_uri": "https://localhost:8080/"
        },
        "id": "W3bgtmi_BDQX",
        "outputId": "2e525846-5ef0-4a5e-abb4-419c94b372cd"
      },
      "source": [
        "# list comprehension y =[valor_a_adicionar  laço  condição]\n",
        "x = [1, 2, 3, 4, 5]\n",
        "y = [i**2 for i in x]\n",
        "z = [i for i in x if i%2==1]\n",
        "\n",
        "print(\"Usando list comprehension\")\n",
        "print(x)\n",
        "print(y)\n",
        "print(z)"
      ],
      "execution_count": null,
      "outputs": [
        {
          "output_type": "stream",
          "text": [
            "Usando list comprehension\n",
            "[1, 2, 3, 4, 5]\n",
            "[1, 4, 9, 16, 25]\n",
            "[1, 3, 5]\n"
          ],
          "name": "stdout"
        }
      ]
    },
    {
      "cell_type": "code",
      "metadata": {
        "id": "exC0864WBZ2N"
      },
      "source": [
        "# função enumerate "
      ],
      "execution_count": null,
      "outputs": []
    },
    {
      "cell_type": "code",
      "metadata": {
        "id": "-8fpV11IgI6P"
      },
      "source": [
        "area_do_terreno = 10 * 10"
      ],
      "execution_count": null,
      "outputs": []
    },
    {
      "cell_type": "code",
      "metadata": {
        "id": "A5oswcQGzSUb"
      },
      "source": [
        "area_do_terreno"
      ],
      "execution_count": null,
      "outputs": []
    },
    {
      "cell_type": "code",
      "metadata": {
        "id": "y8OVM9Ya2Ekv"
      },
      "source": [
        "type(\"Nathan\")"
      ],
      "execution_count": null,
      "outputs": []
    },
    {
      "cell_type": "code",
      "metadata": {
        "id": "X_Y5Xy7G2oRE"
      },
      "source": [
        "nome = \"Nathan\"\n",
        "sobrenome = \"Dantas\"\n",
        "profissao = \"Developer\"\n"
      ],
      "execution_count": null,
      "outputs": []
    },
    {
      "cell_type": "code",
      "metadata": {
        "id": "aJFkkYS_28i8"
      },
      "source": [
        "print(\"Nome Completo:\", nome, sobrenome,\"e Minha profissão é:\", profissao)\n",
        "\n",
        "print(\"Minha profissão é:\", profissao)"
      ],
      "execution_count": null,
      "outputs": []
    },
    {
      "cell_type": "code",
      "metadata": {
        "id": "dKgGbPsfUYyV"
      },
      "source": [
        "nomes = \"fernando,nathan,jose\"\n",
        "nomes.split(',')"
      ],
      "execution_count": null,
      "outputs": []
    },
    {
      "cell_type": "code",
      "metadata": {
        "id": "U06qg4Kf3Z-8"
      },
      "source": [
        "nome[0:6]"
      ],
      "execution_count": null,
      "outputs": []
    },
    {
      "cell_type": "code",
      "metadata": {
        "id": "ZnRIAJ2e392Y"
      },
      "source": [
        "len(nome)"
      ],
      "execution_count": null,
      "outputs": []
    },
    {
      "cell_type": "code",
      "metadata": {
        "id": "33wA3fLu5H39"
      },
      "source": [
        "preco=\"R$ 9,50\"\n",
        "preco.strip('R$ ').replace(',','.')\n",
        "type"
      ],
      "execution_count": null,
      "outputs": []
    },
    {
      "cell_type": "code",
      "metadata": {
        "id": "w8N2QWVmNte8"
      },
      "source": [
        ""
      ],
      "execution_count": null,
      "outputs": []
    }
  ]
}